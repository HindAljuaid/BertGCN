{
  "nbformat": 4,
  "nbformat_minor": 0,
  "metadata": {
    "colab": {
      "provenance": []
    },
    "kernelspec": {
      "name": "python3",
      "display_name": "Python 3"
    },
    "language_info": {
      "name": "python"
    }
  },
  "cells": [
    {
      "cell_type": "code",
      "execution_count": null,
      "metadata": {
        "id": "BdQ_tfv-q8-y"
      },
      "outputs": [],
      "source": [
        "\"\"\"GCN using DGL nn package\n",
        "References:\n",
        "- Semi-Supervised Classification with Graph Convolutional Networks\n",
        "- Paper: https://arxiv.org/abs/1609.02907\n",
        "- Code: https://github.com/tkipf/gcn\n",
        "\"\"\""
      ]
    },
    {
      "cell_type": "code",
      "source": [
        "import torch\n",
        "import torch.nn as nn\n",
        "# from dgl.nn import GraphConv\n",
        "from .graphconv_edge_weight import GraphConvEdgeWeight as GraphConv"
      ],
      "metadata": {
        "id": "3N3CTWPHrACg"
      },
      "execution_count": null,
      "outputs": []
    },
    {
      "cell_type": "code",
      "source": [
        "class GCN(nn.Module):\n",
        "    def __init__(self,\n",
        "                 in_feats,\n",
        "                 n_hidden,\n",
        "                 n_classes,\n",
        "                 n_layers,\n",
        "                 activation,\n",
        "                 dropout,\n",
        "                 normalization='none'):\n",
        "        super(GCN, self).__init__()\n",
        "        self.layers = nn.ModuleList()\n",
        "        # input layer\n",
        "        self.layers.append(GraphConv(in_feats, n_hidden, activation=activation, norm=normalization))\n",
        "        # hidden layers\n",
        "        for i in range(n_layers - 1):\n",
        "            self.layers.append(GraphConv(n_hidden, n_hidden, activation=activation, norm=normalization))\n",
        "        # output layer\n",
        "        self.layers.append(GraphConv(n_hidden, n_classes, norm=normalization))\n",
        "        self.dropout = nn.Dropout(p=dropout)\n",
        "\n",
        "    def forward(self, features, g, edge_weight):\n",
        "        h = features\n",
        "        for i, layer in enumerate(self.layers):\n",
        "            if i != 0:\n",
        "                h = self.dropout(h)\n",
        "            h = layer(g, h, edge_weights=edge_weight)\n",
        "        return h"
      ],
      "metadata": {
        "id": "RiMxcdxmrEq0"
      },
      "execution_count": null,
      "outputs": []
    }
  ]
}